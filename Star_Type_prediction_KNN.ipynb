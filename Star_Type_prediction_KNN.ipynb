{
  "nbformat": 4,
  "nbformat_minor": 0,
  "metadata": {
    "colab": {
      "provenance": [],
      "collapsed_sections": []
    },
    "kernelspec": {
      "name": "python3",
      "display_name": "Python 3"
    },
    "language_info": {
      "name": "python"
    }
  },
  "cells": [
    {
      "cell_type": "markdown",
      "source": [
        "<h1> Can a computer guess what is the type of a star?</h1> \n",
        "Barrulik - 4/4/2022\n",
        "\n",
        "\n",
        "My data set:\n",
        "https://www.kaggle.com/deepu1109/star-dataset"
      ],
      "metadata": {
        "id": "faiwczWmaVPz"
      }
    },
    {
      "cell_type": "markdown",
      "source": [
        "# Importing data set"
      ],
      "metadata": {
        "id": "-lo1PbyvtyZF"
      }
    },
    {
      "cell_type": "markdown",
      "source": [
        "The data set has the following inputs:\n",
        "\n",
        "Temperature - The temperature of the star.\n",
        "\n",
        "Luminosity - The luminosity of the star.\n",
        "\n",
        "Radius - The radius of the star.\n",
        "\n",
        "Absolute magnitude - A measure of the luminosity of a celestial object, on an inverse logarithmic astronomical magnitude scale.\n",
        "\n",
        "Star color - The color of the star.\n",
        "\n",
        "Star type - The type of the star."
      ],
      "metadata": {
        "id": "4F74TOdlxTc1"
      }
    },
    {
      "cell_type": "code",
      "metadata": {
        "id": "69jbBALwYmae"
      },
      "source": [
        "import numpy as np\n",
        "import pandas as pd\n",
        "import matplotlib.pyplot as plt\n",
        "import seaborn as sns\n",
        "from sklearn.neighbors import KNeighborsClassifier\n",
        "from sklearn.model_selection import train_test_split\n",
        "from sklearn.preprocessing import MinMaxScaler\n",
        "from sklearn.metrics import classification_report, confusion_matrix, ConfusionMatrixDisplay"
      ],
      "execution_count": null,
      "outputs": []
    },
    {
      "cell_type": "code",
      "source": [
        "df = pd.read_csv(\"/content/drive/MyDrive/data/stars.csv\") # Importing the dataset file and\n",
        "df.head() # making sure file exists"
      ],
      "metadata": {
        "id": "n4mwTJCxZh12",
        "colab": {
          "base_uri": "https://localhost:8080/",
          "height": 206
        },
        "outputId": "b05dc788-5937-46b5-b114-38efa3f631b1"
      },
      "execution_count": null,
      "outputs": [
        {
          "output_type": "execute_result",
          "data": {
            "text/plain": [
              "   Temperature (K)  Luminosity(L/Lo)  Radius(R/Ro)  Absolute magnitude(Mv)  \\\n",
              "0             3068          0.002400        0.1700                   16.12   \n",
              "1             3042          0.000500        0.1542                   16.60   \n",
              "2             2600          0.000300        0.1020                   18.70   \n",
              "3             2800          0.000200        0.1600                   16.65   \n",
              "4             1939          0.000138        0.1030                   20.06   \n",
              "\n",
              "   Star type Star color Spectral Class  \n",
              "0          0        Red              M  \n",
              "1          0        Red              M  \n",
              "2          0        Red              M  \n",
              "3          0        Red              M  \n",
              "4          0        Red              M  "
            ],
            "text/html": [
              "\n",
              "  <div id=\"df-29508296-3b8b-4605-a3ee-9502f24d1d86\">\n",
              "    <div class=\"colab-df-container\">\n",
              "      <div>\n",
              "<style scoped>\n",
              "    .dataframe tbody tr th:only-of-type {\n",
              "        vertical-align: middle;\n",
              "    }\n",
              "\n",
              "    .dataframe tbody tr th {\n",
              "        vertical-align: top;\n",
              "    }\n",
              "\n",
              "    .dataframe thead th {\n",
              "        text-align: right;\n",
              "    }\n",
              "</style>\n",
              "<table border=\"1\" class=\"dataframe\">\n",
              "  <thead>\n",
              "    <tr style=\"text-align: right;\">\n",
              "      <th></th>\n",
              "      <th>Temperature (K)</th>\n",
              "      <th>Luminosity(L/Lo)</th>\n",
              "      <th>Radius(R/Ro)</th>\n",
              "      <th>Absolute magnitude(Mv)</th>\n",
              "      <th>Star type</th>\n",
              "      <th>Star color</th>\n",
              "      <th>Spectral Class</th>\n",
              "    </tr>\n",
              "  </thead>\n",
              "  <tbody>\n",
              "    <tr>\n",
              "      <th>0</th>\n",
              "      <td>3068</td>\n",
              "      <td>0.002400</td>\n",
              "      <td>0.1700</td>\n",
              "      <td>16.12</td>\n",
              "      <td>0</td>\n",
              "      <td>Red</td>\n",
              "      <td>M</td>\n",
              "    </tr>\n",
              "    <tr>\n",
              "      <th>1</th>\n",
              "      <td>3042</td>\n",
              "      <td>0.000500</td>\n",
              "      <td>0.1542</td>\n",
              "      <td>16.60</td>\n",
              "      <td>0</td>\n",
              "      <td>Red</td>\n",
              "      <td>M</td>\n",
              "    </tr>\n",
              "    <tr>\n",
              "      <th>2</th>\n",
              "      <td>2600</td>\n",
              "      <td>0.000300</td>\n",
              "      <td>0.1020</td>\n",
              "      <td>18.70</td>\n",
              "      <td>0</td>\n",
              "      <td>Red</td>\n",
              "      <td>M</td>\n",
              "    </tr>\n",
              "    <tr>\n",
              "      <th>3</th>\n",
              "      <td>2800</td>\n",
              "      <td>0.000200</td>\n",
              "      <td>0.1600</td>\n",
              "      <td>16.65</td>\n",
              "      <td>0</td>\n",
              "      <td>Red</td>\n",
              "      <td>M</td>\n",
              "    </tr>\n",
              "    <tr>\n",
              "      <th>4</th>\n",
              "      <td>1939</td>\n",
              "      <td>0.000138</td>\n",
              "      <td>0.1030</td>\n",
              "      <td>20.06</td>\n",
              "      <td>0</td>\n",
              "      <td>Red</td>\n",
              "      <td>M</td>\n",
              "    </tr>\n",
              "  </tbody>\n",
              "</table>\n",
              "</div>\n",
              "      <button class=\"colab-df-convert\" onclick=\"convertToInteractive('df-29508296-3b8b-4605-a3ee-9502f24d1d86')\"\n",
              "              title=\"Convert this dataframe to an interactive table.\"\n",
              "              style=\"display:none;\">\n",
              "        \n",
              "  <svg xmlns=\"http://www.w3.org/2000/svg\" height=\"24px\"viewBox=\"0 0 24 24\"\n",
              "       width=\"24px\">\n",
              "    <path d=\"M0 0h24v24H0V0z\" fill=\"none\"/>\n",
              "    <path d=\"M18.56 5.44l.94 2.06.94-2.06 2.06-.94-2.06-.94-.94-2.06-.94 2.06-2.06.94zm-11 1L8.5 8.5l.94-2.06 2.06-.94-2.06-.94L8.5 2.5l-.94 2.06-2.06.94zm10 10l.94 2.06.94-2.06 2.06-.94-2.06-.94-.94-2.06-.94 2.06-2.06.94z\"/><path d=\"M17.41 7.96l-1.37-1.37c-.4-.4-.92-.59-1.43-.59-.52 0-1.04.2-1.43.59L10.3 9.45l-7.72 7.72c-.78.78-.78 2.05 0 2.83L4 21.41c.39.39.9.59 1.41.59.51 0 1.02-.2 1.41-.59l7.78-7.78 2.81-2.81c.8-.78.8-2.07 0-2.86zM5.41 20L4 18.59l7.72-7.72 1.47 1.35L5.41 20z\"/>\n",
              "  </svg>\n",
              "      </button>\n",
              "      \n",
              "  <style>\n",
              "    .colab-df-container {\n",
              "      display:flex;\n",
              "      flex-wrap:wrap;\n",
              "      gap: 12px;\n",
              "    }\n",
              "\n",
              "    .colab-df-convert {\n",
              "      background-color: #E8F0FE;\n",
              "      border: none;\n",
              "      border-radius: 50%;\n",
              "      cursor: pointer;\n",
              "      display: none;\n",
              "      fill: #1967D2;\n",
              "      height: 32px;\n",
              "      padding: 0 0 0 0;\n",
              "      width: 32px;\n",
              "    }\n",
              "\n",
              "    .colab-df-convert:hover {\n",
              "      background-color: #E2EBFA;\n",
              "      box-shadow: 0px 1px 2px rgba(60, 64, 67, 0.3), 0px 1px 3px 1px rgba(60, 64, 67, 0.15);\n",
              "      fill: #174EA6;\n",
              "    }\n",
              "\n",
              "    [theme=dark] .colab-df-convert {\n",
              "      background-color: #3B4455;\n",
              "      fill: #D2E3FC;\n",
              "    }\n",
              "\n",
              "    [theme=dark] .colab-df-convert:hover {\n",
              "      background-color: #434B5C;\n",
              "      box-shadow: 0px 1px 3px 1px rgba(0, 0, 0, 0.15);\n",
              "      filter: drop-shadow(0px 1px 2px rgba(0, 0, 0, 0.3));\n",
              "      fill: #FFFFFF;\n",
              "    }\n",
              "  </style>\n",
              "\n",
              "      <script>\n",
              "        const buttonEl =\n",
              "          document.querySelector('#df-29508296-3b8b-4605-a3ee-9502f24d1d86 button.colab-df-convert');\n",
              "        buttonEl.style.display =\n",
              "          google.colab.kernel.accessAllowed ? 'block' : 'none';\n",
              "\n",
              "        async function convertToInteractive(key) {\n",
              "          const element = document.querySelector('#df-29508296-3b8b-4605-a3ee-9502f24d1d86');\n",
              "          const dataTable =\n",
              "            await google.colab.kernel.invokeFunction('convertToInteractive',\n",
              "                                                     [key], {});\n",
              "          if (!dataTable) return;\n",
              "\n",
              "          const docLinkHtml = 'Like what you see? Visit the ' +\n",
              "            '<a target=\"_blank\" href=https://colab.research.google.com/notebooks/data_table.ipynb>data table notebook</a>'\n",
              "            + ' to learn more about interactive tables.';\n",
              "          element.innerHTML = '';\n",
              "          dataTable['output_type'] = 'display_data';\n",
              "          await google.colab.output.renderOutput(dataTable, element);\n",
              "          const docLink = document.createElement('div');\n",
              "          docLink.innerHTML = docLinkHtml;\n",
              "          element.appendChild(docLink);\n",
              "        }\n",
              "      </script>\n",
              "    </div>\n",
              "  </div>\n",
              "  "
            ]
          },
          "metadata": {},
          "execution_count": 68
        }
      ]
    },
    {
      "cell_type": "code",
      "source": [
        "df.describe().transpose() # Allows me to see the values range"
      ],
      "metadata": {
        "colab": {
          "base_uri": "https://localhost:8080/",
          "height": 206
        },
        "id": "0B-KuIOVculn",
        "outputId": "8cb592e1-2256-4ce4-fcc3-50bedd3bde9e"
      },
      "execution_count": null,
      "outputs": [
        {
          "output_type": "execute_result",
          "data": {
            "text/plain": [
              "                        count           mean            std         min  \\\n",
              "Temperature (K)         240.0   10497.462500    9552.425037  1939.00000   \n",
              "Luminosity(L/Lo)        240.0  107188.361635  179432.244940     0.00008   \n",
              "Radius(R/Ro)            240.0     237.157781     517.155763     0.00840   \n",
              "Absolute magnitude(Mv)  240.0       4.382396      10.532512   -11.92000   \n",
              "Star type               240.0       2.500000       1.711394     0.00000   \n",
              "\n",
              "                                25%        50%          75%        max  \n",
              "Temperature (K)         3344.250000  5776.0000   15055.5000   40000.00  \n",
              "Luminosity(L/Lo)           0.000865     0.0705  198050.0000  849420.00  \n",
              "Radius(R/Ro)               0.102750     0.7625      42.7500    1948.50  \n",
              "Absolute magnitude(Mv)    -6.232500     8.3130      13.6975      20.06  \n",
              "Star type                  1.000000     2.5000       4.0000       5.00  "
            ],
            "text/html": [
              "\n",
              "  <div id=\"df-07905ed7-412f-4c4b-8535-4e8fda44979f\">\n",
              "    <div class=\"colab-df-container\">\n",
              "      <div>\n",
              "<style scoped>\n",
              "    .dataframe tbody tr th:only-of-type {\n",
              "        vertical-align: middle;\n",
              "    }\n",
              "\n",
              "    .dataframe tbody tr th {\n",
              "        vertical-align: top;\n",
              "    }\n",
              "\n",
              "    .dataframe thead th {\n",
              "        text-align: right;\n",
              "    }\n",
              "</style>\n",
              "<table border=\"1\" class=\"dataframe\">\n",
              "  <thead>\n",
              "    <tr style=\"text-align: right;\">\n",
              "      <th></th>\n",
              "      <th>count</th>\n",
              "      <th>mean</th>\n",
              "      <th>std</th>\n",
              "      <th>min</th>\n",
              "      <th>25%</th>\n",
              "      <th>50%</th>\n",
              "      <th>75%</th>\n",
              "      <th>max</th>\n",
              "    </tr>\n",
              "  </thead>\n",
              "  <tbody>\n",
              "    <tr>\n",
              "      <th>Temperature (K)</th>\n",
              "      <td>240.0</td>\n",
              "      <td>10497.462500</td>\n",
              "      <td>9552.425037</td>\n",
              "      <td>1939.00000</td>\n",
              "      <td>3344.250000</td>\n",
              "      <td>5776.0000</td>\n",
              "      <td>15055.5000</td>\n",
              "      <td>40000.00</td>\n",
              "    </tr>\n",
              "    <tr>\n",
              "      <th>Luminosity(L/Lo)</th>\n",
              "      <td>240.0</td>\n",
              "      <td>107188.361635</td>\n",
              "      <td>179432.244940</td>\n",
              "      <td>0.00008</td>\n",
              "      <td>0.000865</td>\n",
              "      <td>0.0705</td>\n",
              "      <td>198050.0000</td>\n",
              "      <td>849420.00</td>\n",
              "    </tr>\n",
              "    <tr>\n",
              "      <th>Radius(R/Ro)</th>\n",
              "      <td>240.0</td>\n",
              "      <td>237.157781</td>\n",
              "      <td>517.155763</td>\n",
              "      <td>0.00840</td>\n",
              "      <td>0.102750</td>\n",
              "      <td>0.7625</td>\n",
              "      <td>42.7500</td>\n",
              "      <td>1948.50</td>\n",
              "    </tr>\n",
              "    <tr>\n",
              "      <th>Absolute magnitude(Mv)</th>\n",
              "      <td>240.0</td>\n",
              "      <td>4.382396</td>\n",
              "      <td>10.532512</td>\n",
              "      <td>-11.92000</td>\n",
              "      <td>-6.232500</td>\n",
              "      <td>8.3130</td>\n",
              "      <td>13.6975</td>\n",
              "      <td>20.06</td>\n",
              "    </tr>\n",
              "    <tr>\n",
              "      <th>Star type</th>\n",
              "      <td>240.0</td>\n",
              "      <td>2.500000</td>\n",
              "      <td>1.711394</td>\n",
              "      <td>0.00000</td>\n",
              "      <td>1.000000</td>\n",
              "      <td>2.5000</td>\n",
              "      <td>4.0000</td>\n",
              "      <td>5.00</td>\n",
              "    </tr>\n",
              "  </tbody>\n",
              "</table>\n",
              "</div>\n",
              "      <button class=\"colab-df-convert\" onclick=\"convertToInteractive('df-07905ed7-412f-4c4b-8535-4e8fda44979f')\"\n",
              "              title=\"Convert this dataframe to an interactive table.\"\n",
              "              style=\"display:none;\">\n",
              "        \n",
              "  <svg xmlns=\"http://www.w3.org/2000/svg\" height=\"24px\"viewBox=\"0 0 24 24\"\n",
              "       width=\"24px\">\n",
              "    <path d=\"M0 0h24v24H0V0z\" fill=\"none\"/>\n",
              "    <path d=\"M18.56 5.44l.94 2.06.94-2.06 2.06-.94-2.06-.94-.94-2.06-.94 2.06-2.06.94zm-11 1L8.5 8.5l.94-2.06 2.06-.94-2.06-.94L8.5 2.5l-.94 2.06-2.06.94zm10 10l.94 2.06.94-2.06 2.06-.94-2.06-.94-.94-2.06-.94 2.06-2.06.94z\"/><path d=\"M17.41 7.96l-1.37-1.37c-.4-.4-.92-.59-1.43-.59-.52 0-1.04.2-1.43.59L10.3 9.45l-7.72 7.72c-.78.78-.78 2.05 0 2.83L4 21.41c.39.39.9.59 1.41.59.51 0 1.02-.2 1.41-.59l7.78-7.78 2.81-2.81c.8-.78.8-2.07 0-2.86zM5.41 20L4 18.59l7.72-7.72 1.47 1.35L5.41 20z\"/>\n",
              "  </svg>\n",
              "      </button>\n",
              "      \n",
              "  <style>\n",
              "    .colab-df-container {\n",
              "      display:flex;\n",
              "      flex-wrap:wrap;\n",
              "      gap: 12px;\n",
              "    }\n",
              "\n",
              "    .colab-df-convert {\n",
              "      background-color: #E8F0FE;\n",
              "      border: none;\n",
              "      border-radius: 50%;\n",
              "      cursor: pointer;\n",
              "      display: none;\n",
              "      fill: #1967D2;\n",
              "      height: 32px;\n",
              "      padding: 0 0 0 0;\n",
              "      width: 32px;\n",
              "    }\n",
              "\n",
              "    .colab-df-convert:hover {\n",
              "      background-color: #E2EBFA;\n",
              "      box-shadow: 0px 1px 2px rgba(60, 64, 67, 0.3), 0px 1px 3px 1px rgba(60, 64, 67, 0.15);\n",
              "      fill: #174EA6;\n",
              "    }\n",
              "\n",
              "    [theme=dark] .colab-df-convert {\n",
              "      background-color: #3B4455;\n",
              "      fill: #D2E3FC;\n",
              "    }\n",
              "\n",
              "    [theme=dark] .colab-df-convert:hover {\n",
              "      background-color: #434B5C;\n",
              "      box-shadow: 0px 1px 3px 1px rgba(0, 0, 0, 0.15);\n",
              "      filter: drop-shadow(0px 1px 2px rgba(0, 0, 0, 0.3));\n",
              "      fill: #FFFFFF;\n",
              "    }\n",
              "  </style>\n",
              "\n",
              "      <script>\n",
              "        const buttonEl =\n",
              "          document.querySelector('#df-07905ed7-412f-4c4b-8535-4e8fda44979f button.colab-df-convert');\n",
              "        buttonEl.style.display =\n",
              "          google.colab.kernel.accessAllowed ? 'block' : 'none';\n",
              "\n",
              "        async function convertToInteractive(key) {\n",
              "          const element = document.querySelector('#df-07905ed7-412f-4c4b-8535-4e8fda44979f');\n",
              "          const dataTable =\n",
              "            await google.colab.kernel.invokeFunction('convertToInteractive',\n",
              "                                                     [key], {});\n",
              "          if (!dataTable) return;\n",
              "\n",
              "          const docLinkHtml = 'Like what you see? Visit the ' +\n",
              "            '<a target=\"_blank\" href=https://colab.research.google.com/notebooks/data_table.ipynb>data table notebook</a>'\n",
              "            + ' to learn more about interactive tables.';\n",
              "          element.innerHTML = '';\n",
              "          dataTable['output_type'] = 'display_data';\n",
              "          await google.colab.output.renderOutput(dataTable, element);\n",
              "          const docLink = document.createElement('div');\n",
              "          docLink.innerHTML = docLinkHtml;\n",
              "          element.appendChild(docLink);\n",
              "        }\n",
              "      </script>\n",
              "    </div>\n",
              "  </div>\n",
              "  "
            ]
          },
          "metadata": {},
          "execution_count": 69
        }
      ]
    },
    {
      "cell_type": "code",
      "source": [
        "df.info() # checking if there are nulls/objects so I know what will i have to deal with"
      ],
      "metadata": {
        "colab": {
          "base_uri": "https://localhost:8080/"
        },
        "id": "_KjegR1kc5nN",
        "outputId": "ea5be3d2-b33a-4252-e949-a42e5375f9cf"
      },
      "execution_count": null,
      "outputs": [
        {
          "output_type": "stream",
          "name": "stdout",
          "text": [
            "<class 'pandas.core.frame.DataFrame'>\n",
            "RangeIndex: 240 entries, 0 to 239\n",
            "Data columns (total 7 columns):\n",
            " #   Column                  Non-Null Count  Dtype  \n",
            "---  ------                  --------------  -----  \n",
            " 0   Temperature (K)         240 non-null    int64  \n",
            " 1   Luminosity(L/Lo)        240 non-null    float64\n",
            " 2   Radius(R/Ro)            240 non-null    float64\n",
            " 3   Absolute magnitude(Mv)  240 non-null    float64\n",
            " 4   Star type               240 non-null    int64  \n",
            " 5   Star color              240 non-null    object \n",
            " 6   Spectral Class          240 non-null    object \n",
            "dtypes: float64(3), int64(2), object(2)\n",
            "memory usage: 13.2+ KB\n"
          ]
        }
      ]
    },
    {
      "cell_type": "markdown",
      "source": [
        "# Editing the data"
      ],
      "metadata": {
        "id": "U4uunlcM8vrh"
      }
    },
    {
      "cell_type": "markdown",
      "source": [
        "![spectrum.png](data:image/png;base64,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)"
      ],
      "metadata": {
        "id": "VScNRFoTX9TH"
      }
    },
    {
      "cell_type": "markdown",
      "source": [
        "![ScreenShot20210420at3.19.16PM.jpg](data:image/jpeg;base64,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)"
      ],
      "metadata": {
        "id": "rZAqY7vyZnMf"
      }
    },
    {
      "cell_type": "markdown",
      "source": [
        "I have sorted all the objects using those spectrums, The color spectrum and the spectral class spectrum.\n",
        "\n",
        "I related my data to the spectrums because there a numerical order exists."
      ],
      "metadata": {
        "id": "ZipAxQthYKFG"
      }
    },
    {
      "cell_type": "code",
      "source": [
        "df['Star color']=df['Star color'].replace(\n",
        "    {'Blue':0,'Blue ':0, \n",
        "     'Blue White': 1, 'Blue white ':1, 'Blue white':1, 'Blue-White':1, 'Blue-white': 1, \n",
        "     'White':2, 'white': 2, 'Whitish':2, \n",
        "     'White-Yellow':3, 'Yellowish': 3, 'Yellowish White':3,'yellow-white':3, 'yellowish': 3, \n",
        "     'Orange':4, 'Orange-Red':4, \n",
        "     'Pale yellow orange':5, \n",
        "     'Red': 6})\n",
        "df['Spectral Class']=df['Spectral Class'].replace({'O':0,'B':1, 'A':2, 'F':3, 'G':4, 'K':5, 'M': 6})\n",
        "\n",
        "\n",
        "# Converting data to numerical"
      ],
      "metadata": {
        "id": "5cFp3tSCaoTN"
      },
      "execution_count": null,
      "outputs": []
    },
    {
      "cell_type": "code",
      "source": [
        "df.corr()[[\"Star type\"]].transpose() # Checking corrilation"
      ],
      "metadata": {
        "id": "4EgnyfjqdWn1",
        "colab": {
          "base_uri": "https://localhost:8080/",
          "height": 81
        },
        "outputId": "cd119032-b4a1-458b-b38a-5d51198b5f8c"
      },
      "execution_count": null,
      "outputs": [
        {
          "output_type": "execute_result",
          "data": {
            "text/plain": [
              "           Temperature (K)  Luminosity(L/Lo)  Radius(R/Ro)  \\\n",
              "Star type         0.411129          0.676845      0.660975   \n",
              "\n",
              "           Absolute magnitude(Mv)  Star type  Star color  Spectral Class  \n",
              "Star type               -0.955276        1.0   -0.445471       -0.461116  "
            ],
            "text/html": [
              "\n",
              "  <div id=\"df-27913ae4-a376-4eca-95e2-fb466d355e05\">\n",
              "    <div class=\"colab-df-container\">\n",
              "      <div>\n",
              "<style scoped>\n",
              "    .dataframe tbody tr th:only-of-type {\n",
              "        vertical-align: middle;\n",
              "    }\n",
              "\n",
              "    .dataframe tbody tr th {\n",
              "        vertical-align: top;\n",
              "    }\n",
              "\n",
              "    .dataframe thead th {\n",
              "        text-align: right;\n",
              "    }\n",
              "</style>\n",
              "<table border=\"1\" class=\"dataframe\">\n",
              "  <thead>\n",
              "    <tr style=\"text-align: right;\">\n",
              "      <th></th>\n",
              "      <th>Temperature (K)</th>\n",
              "      <th>Luminosity(L/Lo)</th>\n",
              "      <th>Radius(R/Ro)</th>\n",
              "      <th>Absolute magnitude(Mv)</th>\n",
              "      <th>Star type</th>\n",
              "      <th>Star color</th>\n",
              "      <th>Spectral Class</th>\n",
              "    </tr>\n",
              "  </thead>\n",
              "  <tbody>\n",
              "    <tr>\n",
              "      <th>Star type</th>\n",
              "      <td>0.411129</td>\n",
              "      <td>0.676845</td>\n",
              "      <td>0.660975</td>\n",
              "      <td>-0.955276</td>\n",
              "      <td>1.0</td>\n",
              "      <td>-0.445471</td>\n",
              "      <td>-0.461116</td>\n",
              "    </tr>\n",
              "  </tbody>\n",
              "</table>\n",
              "</div>\n",
              "      <button class=\"colab-df-convert\" onclick=\"convertToInteractive('df-27913ae4-a376-4eca-95e2-fb466d355e05')\"\n",
              "              title=\"Convert this dataframe to an interactive table.\"\n",
              "              style=\"display:none;\">\n",
              "        \n",
              "  <svg xmlns=\"http://www.w3.org/2000/svg\" height=\"24px\"viewBox=\"0 0 24 24\"\n",
              "       width=\"24px\">\n",
              "    <path d=\"M0 0h24v24H0V0z\" fill=\"none\"/>\n",
              "    <path d=\"M18.56 5.44l.94 2.06.94-2.06 2.06-.94-2.06-.94-.94-2.06-.94 2.06-2.06.94zm-11 1L8.5 8.5l.94-2.06 2.06-.94-2.06-.94L8.5 2.5l-.94 2.06-2.06.94zm10 10l.94 2.06.94-2.06 2.06-.94-2.06-.94-.94-2.06-.94 2.06-2.06.94z\"/><path d=\"M17.41 7.96l-1.37-1.37c-.4-.4-.92-.59-1.43-.59-.52 0-1.04.2-1.43.59L10.3 9.45l-7.72 7.72c-.78.78-.78 2.05 0 2.83L4 21.41c.39.39.9.59 1.41.59.51 0 1.02-.2 1.41-.59l7.78-7.78 2.81-2.81c.8-.78.8-2.07 0-2.86zM5.41 20L4 18.59l7.72-7.72 1.47 1.35L5.41 20z\"/>\n",
              "  </svg>\n",
              "      </button>\n",
              "      \n",
              "  <style>\n",
              "    .colab-df-container {\n",
              "      display:flex;\n",
              "      flex-wrap:wrap;\n",
              "      gap: 12px;\n",
              "    }\n",
              "\n",
              "    .colab-df-convert {\n",
              "      background-color: #E8F0FE;\n",
              "      border: none;\n",
              "      border-radius: 50%;\n",
              "      cursor: pointer;\n",
              "      display: none;\n",
              "      fill: #1967D2;\n",
              "      height: 32px;\n",
              "      padding: 0 0 0 0;\n",
              "      width: 32px;\n",
              "    }\n",
              "\n",
              "    .colab-df-convert:hover {\n",
              "      background-color: #E2EBFA;\n",
              "      box-shadow: 0px 1px 2px rgba(60, 64, 67, 0.3), 0px 1px 3px 1px rgba(60, 64, 67, 0.15);\n",
              "      fill: #174EA6;\n",
              "    }\n",
              "\n",
              "    [theme=dark] .colab-df-convert {\n",
              "      background-color: #3B4455;\n",
              "      fill: #D2E3FC;\n",
              "    }\n",
              "\n",
              "    [theme=dark] .colab-df-convert:hover {\n",
              "      background-color: #434B5C;\n",
              "      box-shadow: 0px 1px 3px 1px rgba(0, 0, 0, 0.15);\n",
              "      filter: drop-shadow(0px 1px 2px rgba(0, 0, 0, 0.3));\n",
              "      fill: #FFFFFF;\n",
              "    }\n",
              "  </style>\n",
              "\n",
              "      <script>\n",
              "        const buttonEl =\n",
              "          document.querySelector('#df-27913ae4-a376-4eca-95e2-fb466d355e05 button.colab-df-convert');\n",
              "        buttonEl.style.display =\n",
              "          google.colab.kernel.accessAllowed ? 'block' : 'none';\n",
              "\n",
              "        async function convertToInteractive(key) {\n",
              "          const element = document.querySelector('#df-27913ae4-a376-4eca-95e2-fb466d355e05');\n",
              "          const dataTable =\n",
              "            await google.colab.kernel.invokeFunction('convertToInteractive',\n",
              "                                                     [key], {});\n",
              "          if (!dataTable) return;\n",
              "\n",
              "          const docLinkHtml = 'Like what you see? Visit the ' +\n",
              "            '<a target=\"_blank\" href=https://colab.research.google.com/notebooks/data_table.ipynb>data table notebook</a>'\n",
              "            + ' to learn more about interactive tables.';\n",
              "          element.innerHTML = '';\n",
              "          dataTable['output_type'] = 'display_data';\n",
              "          await google.colab.output.renderOutput(dataTable, element);\n",
              "          const docLink = document.createElement('div');\n",
              "          docLink.innerHTML = docLinkHtml;\n",
              "          element.appendChild(docLink);\n",
              "        }\n",
              "      </script>\n",
              "    </div>\n",
              "  </div>\n",
              "  "
            ]
          },
          "metadata": {},
          "execution_count": 72
        }
      ]
    },
    {
      "cell_type": "markdown",
      "source": [
        "# Graphs"
      ],
      "metadata": {
        "id": "SmD_Mcdk82cR"
      }
    },
    {
      "cell_type": "code",
      "source": [
        "df['Star type']=df['Star type'].replace({0:'Brown Dwarf',1:'Red Dwarf',2:'White Dwarf',3:'Main Sequence',4:'Supergiant',5:'Hypergiant'})\n",
        "# Converting data to names so it will be easier to understand"
      ],
      "metadata": {
        "id": "I2rY_WPAbB3H"
      },
      "execution_count": null,
      "outputs": []
    },
    {
      "cell_type": "code",
      "source": [
        "plt.figure(figsize=(10,5)) # Spacing\n",
        "plt.title(\"Luminosity\") # Title\n",
        "sns.stripplot(x=df[\"Star type\"], y=df[\"Luminosity(L/Lo)\"], linewidth=1)"
      ],
      "metadata": {
        "colab": {
          "base_uri": "https://localhost:8080/",
          "height": 367
        },
        "id": "Nv-5stK1Ycr6",
        "outputId": "09c595f1-e1c8-4d29-9a62-aba3442dc870"
      },
      "execution_count": null,
      "outputs": [
        {
          "output_type": "execute_result",
          "data": {
            "text/plain": [
              "<matplotlib.axes._subplots.AxesSubplot at 0x7f63dd7d22d0>"
            ]
          },
          "metadata": {},
          "execution_count": 80
        },
        {
          "output_type": "display_data",
          "data": {
            "text/plain": [
              "<Figure size 720x360 with 1 Axes>"
            ],
            "image/png": "[encoded data removed]"
          },
          "metadata": {
            "needs_background": "light"
          }
        }
      ]
    },
    {
      "cell_type": "markdown",
      "source": [
        "Using that graph, we can learn that only stars with Luminosity above 0 can be from the following types: Main Sequences/Super Giants/Hyper Giants."
      ],
      "metadata": {
        "id": "tss6zkTGZHWp"
      }
    },
    {
      "cell_type": "code",
      "source": [
        "plt.figure(figsize=(10,5)) # Spacing\n",
        "plt.title(\"Star color\") # Title\n",
        "sns.violinplot(x=df[\"Star type\"], y=df[\"Star color\"])"
      ],
      "metadata": {
        "colab": {
          "base_uri": "https://localhost:8080/",
          "height": 367
        },
        "id": "eLWa59OOi0LU",
        "outputId": "c7c7953c-227f-441a-c906-4bafe1522b09"
      },
      "execution_count": null,
      "outputs": [
        {
          "output_type": "execute_result",
          "data": {
            "text/plain": [
              "<matplotlib.axes._subplots.AxesSubplot at 0x7f63dd7b34d0>"
            ]
          },
          "metadata": {},
          "execution_count": 81
        },
        {
          "output_type": "display_data",
          "data": {
            "text/plain": [
              "<Figure size 720x360 with 1 Axes>"
            ],
            "image/png": "[encoded data removed]"
          },
          "metadata": {
            "needs_background": "light"
          }
        }
      ]
    },
    {
      "cell_type": "markdown",
      "source": [
        "In this graph, we can see that the different colors distinguishes between red dwarf and brown dwarf to the other stars."
      ],
      "metadata": {
        "id": "ds8VlI9RYQWW"
      }
    },
    {
      "cell_type": "code",
      "source": [
        "plt.figure(figsize=(10,5)) # Spacing\n",
        "plt.title(\"Absolute magnitude\") # Title\n",
        "sns.scatterplot(x=df['Star type'], y=df[\"Absolute magnitude(Mv)\"], linewidth=1)"
      ],
      "metadata": {
        "colab": {
          "base_uri": "https://localhost:8080/",
          "height": 367
        },
        "id": "rsYazS7mbfuW",
        "outputId": "f251fbab-5089-4e63-f653-15a7bd21b225"
      },
      "execution_count": null,
      "outputs": [
        {
          "output_type": "execute_result",
          "data": {
            "text/plain": [
              "<matplotlib.axes._subplots.AxesSubplot at 0x7f63dda38dd0>"
            ]
          },
          "metadata": {},
          "execution_count": 82
        },
        {
          "output_type": "display_data",
          "data": {
            "text/plain": [
              "<Figure size 720x360 with 1 Axes>"
            ],
            "image/png": "[encoded data removed]"
          },
          "metadata": {
            "needs_background": "light"
          }
        }
      ]
    },
    {
      "cell_type": "markdown",
      "source": [
        "Here, we can see that each star type has its own absolute magnitude range except from the red/white dwarfs which has the same magnitude."
      ],
      "metadata": {
        "id": "E-pU996UTaBT"
      }
    },
    {
      "cell_type": "code",
      "source": [
        "plt.figure(figsize=(10,5)) # Spacing\n",
        "plt.title(\"Temperature (K)\") # Title\n",
        "sns.kdeplot(x=df['Temperature (K)'], hue=df[\"Star type\"], linewidth=2)"
      ],
      "metadata": {
        "id": "L0STlOlymi2-",
        "colab": {
          "base_uri": "https://localhost:8080/",
          "height": 367
        },
        "outputId": "aea9b722-d815-45ab-f925-133a18b2fa50"
      },
      "execution_count": null,
      "outputs": [
        {
          "output_type": "execute_result",
          "data": {
            "text/plain": [
              "<matplotlib.axes._subplots.AxesSubplot at 0x7f63dd678c90>"
            ]
          },
          "metadata": {},
          "execution_count": 84
        },
        {
          "output_type": "display_data",
          "data": {
            "text/plain": [
              "<Figure size 720x360 with 1 Axes>"
            ],
            "image/png": "[encoded data removed]"
          },
          "metadata": {
            "needs_background": "light"
          }
        }
      ]
    },
    {
      "cell_type": "markdown",
      "source": [
        "This graph shows us that we can distinguish between the red dwarf and the brown dwarf by their color."
      ],
      "metadata": {
        "id": "jymEoBRPmdye"
      }
    },
    {
      "cell_type": "code",
      "source": [
        "plt.figure(figsize=(10,5)) # Spacing\n",
        "plt.title(\"Radius\") # Title\n",
        "sns.scatterplot(x=df['Star type'], y=df['Radius(R/Ro)'], linewidth=1)"
      ],
      "metadata": {
        "colab": {
          "base_uri": "https://localhost:8080/",
          "height": 367
        },
        "id": "5MF96mvT3Okf",
        "outputId": "1ba8e856-74f8-411b-8e33-e57ce3c1f553"
      },
      "execution_count": null,
      "outputs": [
        {
          "output_type": "execute_result",
          "data": {
            "text/plain": [
              "<matplotlib.axes._subplots.AxesSubplot at 0x7f63ddbe7f50>"
            ]
          },
          "metadata": {},
          "execution_count": 83
        },
        {
          "output_type": "display_data",
          "data": {
            "text/plain": [
              "<Figure size 720x360 with 1 Axes>"
            ],
            "image/png": "[encoded data removed]"
          },
          "metadata": {
            "needs_background": "light"
          }
        }
      ]
    },
    {
      "cell_type": "markdown",
      "source": [
        "Here we can see that Hypergiants are really big comparing to the other planets, and that super giants are bigger then the other options but the hypergiants."
      ],
      "metadata": {
        "id": "lV1sLHPcJ4Fr"
      }
    },
    {
      "cell_type": "code",
      "source": [
        "df['Star type']=df['Star type'].replace({'Brown Dwarf':0,'Red Dwarf':1,'White Dwarf':2,'Main Sequence':3,'Supergiant':4,'Hypergiant':5})\n",
        "# Converting the data back to numbers"
      ],
      "metadata": {
        "id": "vdFhdmcApekz"
      },
      "execution_count": null,
      "outputs": []
    },
    {
      "cell_type": "markdown",
      "source": [
        "# Preparation"
      ],
      "metadata": {
        "id": "lfTpaRjciGc5"
      }
    },
    {
      "cell_type": "code",
      "source": [
        "print('Star type\\n{}'.format(df['Star type'].value_counts())) # Making sure that we have the same amount of every star so there is no need to balance anything"
      ],
      "metadata": {
        "colab": {
          "base_uri": "https://localhost:8080/"
        },
        "id": "3mEvfk--nkpX",
        "outputId": "7f1a1f0a-085d-4141-fa23-1f0a3388a445"
      },
      "execution_count": null,
      "outputs": [
        {
          "output_type": "stream",
          "name": "stdout",
          "text": [
            "Star type\n",
            "0    40\n",
            "1    40\n",
            "2    40\n",
            "3    40\n",
            "4    40\n",
            "5    40\n",
            "Name: Star type, dtype: int64\n"
          ]
        }
      ]
    },
    {
      "cell_type": "code",
      "source": [
        "df = df.sample(frac=1, random_state=42).reset_index(drop=True) # Shuffling the data frame\n",
        "df # Printing it to make sure that its shuffled"
      ],
      "metadata": {
        "colab": {
          "base_uri": "https://localhost:8080/",
          "height": 424
        },
        "id": "KMvbGzDKiZeu",
        "outputId": "e4ed2add-d903-423d-e659-1198274d0c78"
      },
      "execution_count": null,
      "outputs": [
        {
          "output_type": "execute_result",
          "data": {
            "text/plain": [
              "     Temperature (K)  Luminosity(L/Lo)  Radius(R/Ro)  Absolute magnitude(Mv)  \\\n",
              "0              16500           0.01300         0.014                  11.890   \n",
              "1               2637           0.00073         0.127                  17.220   \n",
              "2               4980           0.35700         1.130                   4.780   \n",
              "3              33421      352000.00000        67.000                  -5.790   \n",
              "4              11096      112000.00000        12.000                  -5.910   \n",
              "..               ...               ...           ...                     ...   \n",
              "235            24630      363000.00000        63.000                  -5.830   \n",
              "236             2650           0.00060         0.140                  11.782   \n",
              "237             4077           0.08500         0.795                   6.228   \n",
              "238            24490      248490.00000      1134.500                  -8.240   \n",
              "239            23000      127000.00000        36.000                  -5.760   \n",
              "\n",
              "     Star type  Star color  Spectral Class  \n",
              "0            2           1               1  \n",
              "1            0           6               6  \n",
              "2            3           3               5  \n",
              "3            4           0               0  \n",
              "4            4           0               0  \n",
              "..         ...         ...             ...  \n",
              "235          4           0               0  \n",
              "236          1           6               6  \n",
              "237          3           3               5  \n",
              "238          5           1               1  \n",
              "239          4           0               0  \n",
              "\n",
              "[240 rows x 7 columns]"
            ],
            "text/html": [
              "\n",
              "  <div id=\"df-471a67b3-9dc1-4df8-ba7c-43dd07bb0db7\">\n",
              "    <div class=\"colab-df-container\">\n",
              "      <div>\n",
              "<style scoped>\n",
              "    .dataframe tbody tr th:only-of-type {\n",
              "        vertical-align: middle;\n",
              "    }\n",
              "\n",
              "    .dataframe tbody tr th {\n",
              "        vertical-align: top;\n",
              "    }\n",
              "\n",
              "    .dataframe thead th {\n",
              "        text-align: right;\n",
              "    }\n",
              "</style>\n",
              "<table border=\"1\" class=\"dataframe\">\n",
              "  <thead>\n",
              "    <tr style=\"text-align: right;\">\n",
              "      <th></th>\n",
              "      <th>Temperature (K)</th>\n",
              "      <th>Luminosity(L/Lo)</th>\n",
              "      <th>Radius(R/Ro)</th>\n",
              "      <th>Absolute magnitude(Mv)</th>\n",
              "      <th>Star type</th>\n",
              "      <th>Star color</th>\n",
              "      <th>Spectral Class</th>\n",
              "    </tr>\n",
              "  </thead>\n",
              "  <tbody>\n",
              "    <tr>\n",
              "      <th>0</th>\n",
              "      <td>16500</td>\n",
              "      <td>0.01300</td>\n",
              "      <td>0.014</td>\n",
              "      <td>11.890</td>\n",
              "      <td>2</td>\n",
              "      <td>1</td>\n",
              "      <td>1</td>\n",
              "    </tr>\n",
              "    <tr>\n",
              "      <th>1</th>\n",
              "      <td>2637</td>\n",
              "      <td>0.00073</td>\n",
              "      <td>0.127</td>\n",
              "      <td>17.220</td>\n",
              "      <td>0</td>\n",
              "      <td>6</td>\n",
              "      <td>6</td>\n",
              "    </tr>\n",
              "    <tr>\n",
              "      <th>2</th>\n",
              "      <td>4980</td>\n",
              "      <td>0.35700</td>\n",
              "      <td>1.130</td>\n",
              "      <td>4.780</td>\n",
              "      <td>3</td>\n",
              "      <td>3</td>\n",
              "      <td>5</td>\n",
              "    </tr>\n",
              "    <tr>\n",
              "      <th>3</th>\n",
              "      <td>33421</td>\n",
              "      <td>352000.00000</td>\n",
              "      <td>67.000</td>\n",
              "      <td>-5.790</td>\n",
              "      <td>4</td>\n",
              "      <td>0</td>\n",
              "      <td>0</td>\n",
              "    </tr>\n",
              "    <tr>\n",
              "      <th>4</th>\n",
              "      <td>11096</td>\n",
              "      <td>112000.00000</td>\n",
              "      <td>12.000</td>\n",
              "      <td>-5.910</td>\n",
              "      <td>4</td>\n",
              "      <td>0</td>\n",
              "      <td>0</td>\n",
              "    </tr>\n",
              "    <tr>\n",
              "      <th>...</th>\n",
              "      <td>...</td>\n",
              "      <td>...</td>\n",
              "      <td>...</td>\n",
              "      <td>...</td>\n",
              "      <td>...</td>\n",
              "      <td>...</td>\n",
              "      <td>...</td>\n",
              "    </tr>\n",
              "    <tr>\n",
              "      <th>235</th>\n",
              "      <td>24630</td>\n",
              "      <td>363000.00000</td>\n",
              "      <td>63.000</td>\n",
              "      <td>-5.830</td>\n",
              "      <td>4</td>\n",
              "      <td>0</td>\n",
              "      <td>0</td>\n",
              "    </tr>\n",
              "    <tr>\n",
              "      <th>236</th>\n",
              "      <td>2650</td>\n",
              "      <td>0.00060</td>\n",
              "      <td>0.140</td>\n",
              "      <td>11.782</td>\n",
              "      <td>1</td>\n",
              "      <td>6</td>\n",
              "      <td>6</td>\n",
              "    </tr>\n",
              "    <tr>\n",
              "      <th>237</th>\n",
              "      <td>4077</td>\n",
              "      <td>0.08500</td>\n",
              "      <td>0.795</td>\n",
              "      <td>6.228</td>\n",
              "      <td>3</td>\n",
              "      <td>3</td>\n",
              "      <td>5</td>\n",
              "    </tr>\n",
              "    <tr>\n",
              "      <th>238</th>\n",
              "      <td>24490</td>\n",
              "      <td>248490.00000</td>\n",
              "      <td>1134.500</td>\n",
              "      <td>-8.240</td>\n",
              "      <td>5</td>\n",
              "      <td>1</td>\n",
              "      <td>1</td>\n",
              "    </tr>\n",
              "    <tr>\n",
              "      <th>239</th>\n",
              "      <td>23000</td>\n",
              "      <td>127000.00000</td>\n",
              "      <td>36.000</td>\n",
              "      <td>-5.760</td>\n",
              "      <td>4</td>\n",
              "      <td>0</td>\n",
              "      <td>0</td>\n",
              "    </tr>\n",
              "  </tbody>\n",
              "</table>\n",
              "<p>240 rows × 7 columns</p>\n",
              "</div>\n",
              "      <button class=\"colab-df-convert\" onclick=\"convertToInteractive('df-471a67b3-9dc1-4df8-ba7c-43dd07bb0db7')\"\n",
              "              title=\"Convert this dataframe to an interactive table.\"\n",
              "              style=\"display:none;\">\n",
              "        \n",
              "  <svg xmlns=\"http://www.w3.org/2000/svg\" height=\"24px\"viewBox=\"0 0 24 24\"\n",
              "       width=\"24px\">\n",
              "    <path d=\"M0 0h24v24H0V0z\" fill=\"none\"/>\n",
              "    <path d=\"M18.56 5.44l.94 2.06.94-2.06 2.06-.94-2.06-.94-.94-2.06-.94 2.06-2.06.94zm-11 1L8.5 8.5l.94-2.06 2.06-.94-2.06-.94L8.5 2.5l-.94 2.06-2.06.94zm10 10l.94 2.06.94-2.06 2.06-.94-2.06-.94-.94-2.06-.94 2.06-2.06.94z\"/><path d=\"M17.41 7.96l-1.37-1.37c-.4-.4-.92-.59-1.43-.59-.52 0-1.04.2-1.43.59L10.3 9.45l-7.72 7.72c-.78.78-.78 2.05 0 2.83L4 21.41c.39.39.9.59 1.41.59.51 0 1.02-.2 1.41-.59l7.78-7.78 2.81-2.81c.8-.78.8-2.07 0-2.86zM5.41 20L4 18.59l7.72-7.72 1.47 1.35L5.41 20z\"/>\n",
              "  </svg>\n",
              "      </button>\n",
              "      \n",
              "  <style>\n",
              "    .colab-df-container {\n",
              "      display:flex;\n",
              "      flex-wrap:wrap;\n",
              "      gap: 12px;\n",
              "    }\n",
              "\n",
              "    .colab-df-convert {\n",
              "      background-color: #E8F0FE;\n",
              "      border: none;\n",
              "      border-radius: 50%;\n",
              "      cursor: pointer;\n",
              "      display: none;\n",
              "      fill: #1967D2;\n",
              "      height: 32px;\n",
              "      padding: 0 0 0 0;\n",
              "      width: 32px;\n",
              "    }\n",
              "\n",
              "    .colab-df-convert:hover {\n",
              "      background-color: #E2EBFA;\n",
              "      box-shadow: 0px 1px 2px rgba(60, 64, 67, 0.3), 0px 1px 3px 1px rgba(60, 64, 67, 0.15);\n",
              "      fill: #174EA6;\n",
              "    }\n",
              "\n",
              "    [theme=dark] .colab-df-convert {\n",
              "      background-color: #3B4455;\n",
              "      fill: #D2E3FC;\n",
              "    }\n",
              "\n",
              "    [theme=dark] .colab-df-convert:hover {\n",
              "      background-color: #434B5C;\n",
              "      box-shadow: 0px 1px 3px 1px rgba(0, 0, 0, 0.15);\n",
              "      filter: drop-shadow(0px 1px 2px rgba(0, 0, 0, 0.3));\n",
              "      fill: #FFFFFF;\n",
              "    }\n",
              "  </style>\n",
              "\n",
              "      <script>\n",
              "        const buttonEl =\n",
              "          document.querySelector('#df-471a67b3-9dc1-4df8-ba7c-43dd07bb0db7 button.colab-df-convert');\n",
              "        buttonEl.style.display =\n",
              "          google.colab.kernel.accessAllowed ? 'block' : 'none';\n",
              "\n",
              "        async function convertToInteractive(key) {\n",
              "          const element = document.querySelector('#df-471a67b3-9dc1-4df8-ba7c-43dd07bb0db7');\n",
              "          const dataTable =\n",
              "            await google.colab.kernel.invokeFunction('convertToInteractive',\n",
              "                                                     [key], {});\n",
              "          if (!dataTable) return;\n",
              "\n",
              "          const docLinkHtml = 'Like what you see? Visit the ' +\n",
              "            '<a target=\"_blank\" href=https://colab.research.google.com/notebooks/data_table.ipynb>data table notebook</a>'\n",
              "            + ' to learn more about interactive tables.';\n",
              "          element.innerHTML = '';\n",
              "          dataTable['output_type'] = 'display_data';\n",
              "          await google.colab.output.renderOutput(dataTable, element);\n",
              "          const docLink = document.createElement('div');\n",
              "          docLink.innerHTML = docLinkHtml;\n",
              "          element.appendChild(docLink);\n",
              "        }\n",
              "      </script>\n",
              "    </div>\n",
              "  </div>\n",
              "  "
            ]
          },
          "metadata": {},
          "execution_count": 16
        }
      ]
    },
    {
      "cell_type": "markdown",
      "source": [
        "# Training begins"
      ],
      "metadata": {
        "id": "wqw-yp-imUKq"
      }
    },
    {
      "cell_type": "code",
      "source": [
        "X = df.drop(['Star type'],axis=1) # Making an array of inputs\n",
        "y = df['Star type'].to_numpy() # Making an array of results\n",
        "print(\"start: \", X.shape, y.shape) # Making sure both have same length"
      ],
      "metadata": {
        "colab": {
          "base_uri": "https://localhost:8080/"
        },
        "id": "dD_BIFvUiKYI",
        "outputId": "bbdd8cb9-26c7-420d-a0f2-f837f3a7bd3d"
      },
      "execution_count": null,
      "outputs": [
        {
          "output_type": "stream",
          "name": "stdout",
          "text": [
            "start:  (240, 6) (240,)\n"
          ]
        }
      ]
    },
    {
      "cell_type": "code",
      "source": [
        "X_train,X_test,y_train,y_test=train_test_split(X,y,test_size=0.20) # Extracting test data out of original dataset\n",
        "print(\"train: \", X_train.shape, y_train.shape) # Making sure shapes are good\n",
        "print(\"test: \", X_test.shape, y_test.shape) # Making sure shapes are good"
      ],
      "metadata": {
        "colab": {
          "base_uri": "https://localhost:8080/"
        },
        "id": "OSBtirt1i03-",
        "outputId": "0c4614f5-b04b-4618-9080-490680f24532"
      },
      "execution_count": null,
      "outputs": [
        {
          "output_type": "stream",
          "name": "stdout",
          "text": [
            "train:  (192, 6) (192,)\n",
            "test:  (48, 6) (48,)\n"
          ]
        }
      ]
    },
    {
      "cell_type": "code",
      "source": [
        "scaler = MinMaxScaler()\n",
        "print('before scaling:')\n",
        "print('Max: ', X_train.max()) # Checking max before\n",
        "print('Min: ', X_train.min()) # Checkign min before\n",
        "\n",
        "\n",
        "X_train = scaler.fit_transform(X_train) # Scaling x training values between 0 and 1\n",
        "X_test = scaler.fit_transform(X_test) # Scaling x testing values between 0 and 1\n",
        "\n",
        "print('\\nEverything has been scaled between 1 and 0')\n",
        "print('Max: ', X_train.max()) # Checking max after\n",
        "print('Min: ', X_train.min()) # Checking min after"
      ],
      "metadata": {
        "id": "Z97DyE9DjTCu",
        "colab": {
          "base_uri": "https://localhost:8080/"
        },
        "outputId": "730f76b0-343a-43da-fbce-fec10a54d49a"
      },
      "execution_count": null,
      "outputs": [
        {
          "output_type": "stream",
          "name": "stdout",
          "text": [
            "before scaling:\n",
            "Max:  Temperature (K)            40000.00\n",
            "Luminosity(L/Lo)          834042.00\n",
            "Radius(R/Ro)                1783.00\n",
            "Absolute magnitude(Mv)        20.02\n",
            "Star color                     6.00\n",
            "Spectral Class                 6.00\n",
            "dtype: float64\n",
            "Min:  Temperature (K)           2600.00000\n",
            "Luminosity(L/Lo)             0.00008\n",
            "Radius(R/Ro)                 0.00840\n",
            "Absolute magnitude(Mv)     -11.92000\n",
            "Star color                   0.00000\n",
            "Spectral Class               0.00000\n",
            "dtype: float64\n",
            "\n",
            "Everything has been scaled between 1 and 0\n",
            "Max:  1.0\n",
            "Min:  0.0\n"
          ]
        }
      ]
    },
    {
      "cell_type": "markdown",
      "source": [
        "\n",
        "# Training and evaluation"
      ],
      "metadata": {
        "id": "-iYRdshngF8g"
      }
    },
    {
      "cell_type": "code",
      "source": [
        "# Looking for the best k near neighbors combination\n",
        "\n",
        "\n",
        "\n",
        "best_knn = KNeighborsClassifier(n_neighbors = 1)\n",
        "best_knn.fit(X_train, y_train)\n",
        "best_knn_score = best_knn.score(X_test,y_test)\n",
        "\n",
        "for k in range(2,10):\n",
        "  knn = KNeighborsClassifier(n_neighbors = k)\n",
        "  knn.fit(X_train, y_train)\n",
        "  knn_score = knn.score(X_test,y_test)\n",
        "  print(\"k = {} score test = {}\".format(k, knn_score))\n",
        "  if knn_score > best_knn_score:\n",
        "    best_knn = knn\n",
        "    best_knn_score = knn_score"
      ],
      "metadata": {
        "colab": {
          "base_uri": "https://localhost:8080/"
        },
        "id": "FRe7YDRegLTY",
        "outputId": "55907c0d-21b3-4c39-caf8-2f48b6bdad4f"
      },
      "execution_count": null,
      "outputs": [
        {
          "output_type": "stream",
          "name": "stdout",
          "text": [
            "k = 2 score test = 1.0\n",
            "k = 3 score test = 0.9791666666666666\n",
            "k = 4 score test = 1.0\n",
            "k = 5 score test = 1.0\n",
            "k = 6 score test = 1.0\n",
            "k = 7 score test = 0.9583333333333334\n",
            "k = 8 score test = 0.9375\n",
            "k = 9 score test = 0.9375\n"
          ]
        }
      ]
    },
    {
      "cell_type": "code",
      "source": [
        "# Making the confusion matrix\n",
        "pred1 = best_knn.predict(X_test)\n",
        "cm = confusion_matrix(pred1,y_test)\n",
        "cm"
      ],
      "metadata": {
        "colab": {
          "base_uri": "https://localhost:8080/"
        },
        "id": "-gNh_TOw4zyh",
        "outputId": "c5bf45bd-7717-4d5e-e5c9-e824802ee8fe"
      },
      "execution_count": null,
      "outputs": [
        {
          "output_type": "execute_result",
          "data": {
            "text/plain": [
              "array([[ 8,  0,  0,  0,  0,  0],\n",
              "       [ 0,  7,  0,  0,  0,  0],\n",
              "       [ 0,  0, 11,  0,  0,  0],\n",
              "       [ 0,  0,  0,  6,  0,  0],\n",
              "       [ 0,  0,  0,  0, 10,  0],\n",
              "       [ 0,  0,  0,  0,  0,  6]])"
            ]
          },
          "metadata": {},
          "execution_count": 95
        }
      ]
    },
    {
      "cell_type": "code",
      "source": [
        "disp = ConfusionMatrixDisplay(confusion_matrix=cm)\n",
        "disp.plot(values_format=\"d\", cmap=\"Reds\") # Drawing the confusion matrix on heat map plot"
      ],
      "metadata": {
        "colab": {
          "base_uri": "https://localhost:8080/",
          "height": 296
        },
        "id": "Sk3Na3xl5Dh4",
        "outputId": "ce544b67-ac44-42e7-b637-cbd381375222"
      },
      "execution_count": null,
      "outputs": [
        {
          "output_type": "execute_result",
          "data": {
            "text/plain": [
              "<sklearn.metrics._plot.confusion_matrix.ConfusionMatrixDisplay at 0x7f63dd362850>"
            ]
          },
          "metadata": {},
          "execution_count": 96
        },
        {
          "output_type": "display_data",
          "data": {
            "text/plain": [
              "<Figure size 432x288 with 2 Axes>"
            ],
            "image/png": "[encoded data removed]"
          },
          "metadata": {
            "needs_background": "light"
          }
        }
      ]
    },
    {
      "cell_type": "code",
      "source": [
        "print(classification_report(pred1, y_test, digits=4)) # Checking the performance of the network"
      ],
      "metadata": {
        "colab": {
          "base_uri": "https://localhost:8080/"
        },
        "id": "oSpUnNbY5YAw",
        "outputId": "34865ed7-1464-4ba9-a42a-7657a57b15e9"
      },
      "execution_count": null,
      "outputs": [
        {
          "output_type": "stream",
          "name": "stdout",
          "text": [
            "              precision    recall  f1-score   support\n",
            "\n",
            "           0     1.0000    1.0000    1.0000         8\n",
            "           1     1.0000    1.0000    1.0000         7\n",
            "           2     1.0000    1.0000    1.0000        11\n",
            "           3     1.0000    1.0000    1.0000         6\n",
            "           4     1.0000    1.0000    1.0000        10\n",
            "           5     1.0000    1.0000    1.0000         6\n",
            "\n",
            "    accuracy                         1.0000        48\n",
            "   macro avg     1.0000    1.0000    1.0000        48\n",
            "weighted avg     1.0000    1.0000    1.0000        48\n",
            "\n"
          ]
        }
      ]
    },
    {
      "cell_type": "markdown",
      "source": [
        "precision - true_positive/(true_positive+false_positive).\n",
        "\n",
        "recall - true_positive/(true_positive+false_negative).\n",
        "\n",
        "f1 score - the measure the test's accuracy. (2\\*precision*recall/(precision+recall))\n",
        "\n",
        "\n",
        "| Star ID | 0 | 1 | 2 | 3 | 4 | 5 |\n",
        "| :---: | :---: | :---: | :---: | :---: | :---: | :---: |\n",
        "| Star Type | Brown Dwarf | Red Dwarf | White Dwarf | Main Sequence | Supergiant | Hypergiant |"
      ],
      "metadata": {
        "id": "ehEmsTwJ9Jo_"
      }
    },
    {
      "cell_type": "markdown",
      "source": [
        "# Bibliography\n",
        "Great explanation about knn:\n",
        "https://towardsdatascience.com/machine-learning-basics-with-the-k-nearest-neighbors-algorithm-6a6e71d01761\n",
        "\n",
        "Wikipedia:\n",
        "https://en.wikipedia.org/"
      ],
      "metadata": {
        "id": "_jh6-aZpti0n"
      }
    },
    {
      "cell_type": "markdown",
      "source": [
        "<h3>Contact me</h3>\n",
        "My mail: Barrulik@gmail.com\n",
        "\n",
        "My projects: https://github.com/barrulik"
      ],
      "metadata": {
        "id": "aNVvnyxI23en"
      }
    }
  ]
}
